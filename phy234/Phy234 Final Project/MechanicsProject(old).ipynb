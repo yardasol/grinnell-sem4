{
 "cells": [
  {
   "cell_type": "code",
   "execution_count": 21,
   "metadata": {},
   "outputs": [
    {
     "name": "stdout",
     "output_type": "stream",
     "text": [
      "Populating the interactive namespace from numpy and matplotlib\n"
     ]
    }
   ],
   "source": [
    "%pylab inline\n",
    "from scipy.integrate import odeint\n",
    "from matplotlib import animation"
   ]
  },
  {
   "cell_type": "code",
   "execution_count": 22,
   "metadata": {
    "collapsed": true
   },
   "outputs": [],
   "source": [
    "#Defining Constants\n",
    "g = 9.8 #gravity\n",
    "m1 = 1 #mass 1\n",
    "m2 = 1 #mass 2\n",
    "k1 = 300 #spring constant 1\n",
    "k2 = 300 #spring constant 2\n",
    "L_01 = 1 #spring 1 relaxed length\n",
    "L_02 = 1 #spring 2 relaxed length\n",
    "beta1= 10 #drag force on first mass\n",
    "gamma1= 3 #damping on spring 1\n",
    "beta2=  10 #drag force on second mass\n",
    "gamma2= 5 #damping on spring 2\n",
    "\n",
    "#Initial Conditions\n",
    "theta1_0 = pi/4\n",
    "theta1dot_0 = 0\n",
    "theta2_0 = pi/4\n",
    "theta2dot_0 = 0\n",
    "l1_0 = L_01\n",
    "l1dot_0 = 0\n",
    "l2_0 = L_02\n",
    "l2dot_0 = 0"
   ]
  },
  {
   "cell_type": "code",
   "execution_count": 11,
   "metadata": {
    "collapsed": true
   },
   "outputs": [],
   "source": [
    "def deriv_ideal(f, t, param):\n",
    "    #unpack variables\n",
    "    t1    = f[0] #theta1 vars\n",
    "    t1dot = f[1] #theta1 dot vars\n",
    "    t2    = f[2] #theta2 vars\n",
    "    t2dot = f[3] #theta2 dot vars\n",
    "    l1    = f[4] #l1 vars\n",
    "    l1dot = f[5] #l1dot vars\n",
    "    l2    = f[6] #l2 vars\n",
    "    l2dot = f[7] #l2dot vars\n",
    "    \n",
    "    #Unpack constants\n",
    "    g_d =  param[0]\n",
    "    m1_d = param[1]\n",
    "    m2_d = param[2]\n",
    "    k1_d = param[3]\n",
    "    k2_d = param[4]\n",
    "    l_01d= param[5]\n",
    "    l_02d= param[6]\n",
    "    \n",
    "    \n",
    "    #Write equations\n",
    "    t1_ddot = (-g_d*m1_d*sin(t1)- k2_d*(l2-l_02d)*sin(t1-t2) - 2*m1_d*l1dot*t1dot)/(m1_d*l1)\n",
    "    l1_ddot = (g_d*m1_d*cos(t1)-k1_d*(l1-l_01d)+k2_d*(l2-l_02d)*cos(t1-t2)+l1*m1_d*(t1dot**2))/m1_d\n",
    "    t2_ddot = (k1_d*(l1-l_01d)*sin(t1-t2)-2*m1_d*l2dot*t2dot)/(m1_d*l2)\n",
    "    l2_ddot = (k1_d*m2_d*(l1-l_01d)*cos(t1-t2)-k2_d*(l2-l_02d)*(m1_d+m2_d)+l2*m1_d*m2_d*(t2dot**2))/(m1_d*m2_d)\n",
    "    \n",
    "    \n",
    "    return array([t1dot, t1_ddot, t2dot, t2_ddot, l1dot, l1_ddot, l2dot, l2_ddot])"
   ]
  },
  {
   "cell_type": "code",
   "execution_count": 23,
   "metadata": {},
   "outputs": [],
   "source": [
    "from scipy.interpolate import UnivariateSpline\n",
    "\n",
    "def solveDSP(M1S, M2S, K1S, K2S, L01S, L02S, THET1S, DTHET1S, THET2S, DTHET2S, L1S, DL1S, L2S, DL2S, max_time):\n",
    "    rinitS= array([THET1S,DTHET1S,THET2S,DTHET2S,L1S,DL1S,L2S,DL2S])\n",
    "    delta_tS=0.00001\n",
    "    tS=arange(0.0,max_time,delta_tS)\n",
    "    paramS= array([g,M1S,M2S,K1S,K2S,L01S,L02S])\n",
    "    rS=odeint(deriv_ideal, rinitS, tS, rtol=1.0e-13,atol=1.0e-13, args=(paramS,))\n",
    "    \n",
    "    theta1S   = rS[:,0]\n",
    "    theta1dotS= rS[:,1]\n",
    "    theta2S   = rS[:,2]\n",
    "    theta2dotS= rS[:,3]\n",
    "    l1S       = rS[:,4]\n",
    "    l1dotS    = rS[:,5]\n",
    "    l2S       = rS[:,6]\n",
    "    l2dotS    = rS[:,7]\n",
    "    timeS     = tS\n",
    "    ggs       = paramS[0]\n",
    "    mm1s      = paramS[1]\n",
    "    mm2s      = paramS[2]\n",
    "    kk1s      = paramS[3]\n",
    "    kk2s      = paramS[4]\n",
    "    ll10s     = paramS[5]\n",
    "    ll20s     = paramS[6]\n",
    "    y1        = -l1S*cos(theta1S)\n",
    "    y2        = -l1S*cos(theta1S) - l2S*cos(theta2S)\n",
    "    v12       = (l1dotS**2)+(l1S**2)*(theta1dotS**2)\n",
    "    v22       = (l1dotS**2)+(l1S**2)*(theta1dotS**2) + (l2dotS**2)+(l2S**2)*(theta2dotS**2) + 2*sin(theta1S-theta2S)*((l1dotS*l2S*theta2dotS)-(l2dotS*l1S*theta1dotS))+2*cos(theta1S-theta2S)*((l1dotS*l2dotS)+(l1S*l2S*theta1dotS*theta2dotS))\n",
    "    \n",
    "    T         = 0.5*mm1s*v12+0.5*mm2s*v22\n",
    "    V         = mm1s*ggs*y1+mm2s*ggs*y2+0.5*kk1s*((l1S-ll10s)**2)+0.5*kk2s*((l2S-ll20s)**2)\n",
    "    E         = T+V\n",
    "\n",
    "    return array([timeS,theta1S,theta1dotS,theta2S,theta2dotS,l1S,l1dotS,l2S,l2dotS, T, V, E])\n",
    "\n",
    "#sol1=solveDSP(1,  1,  300,300,1,   1,   pi/4,     0,           pi/4,     0,           1,    0,       1,    0, 10)\n",
    "             #m1, m2, k1, k2, L01, L01, theta1_0, theta1dot_0, theta2_0, theta2dot_0, l1_0, l1dot_0, l2_0, l2dot_0\n",
    "#spltime=sol1[8,:]\n",
    "#spl1=UnivariateSpline(sol1[0],sol1[1],k = 5,s = 0)\n",
    "#xt_fit = spltime\n",
    "#yt_fit = spl1(spltime)\n",
    "\n",
    "#spl2 = UnivariateSpline(sol1[0],sol1[2],k = 5,s = 0)\n",
    "#xa_fit = spltime\n",
    "#ya_fit = spl2(spltime)\n",
    "#sol1a = ((yt_fit-pi)%(2*pi))-pi  \n",
    "#sol1b = ((ya_fit-15)%(30))-15\n",
    "\n",
    "#plt.plot(sol1[1],sol1[2],'x')\n",
    "#plt.plot(sol1a,sol1b,'o')"
   ]
  },
  {
   "cell_type": "code",
   "execution_count": 34,
   "metadata": {},
   "outputs": [
    {
     "data": {
      "text/plain": [
       "[<matplotlib.lines.Line2D at 0x1d3c83128>]"
      ]
     },
     "execution_count": 34,
     "metadata": {},
     "output_type": "execute_result"
    }
   ],
   "source": [
    "#f_init_ideal = array([theta1_0, theta1dot_0, theta2_0, theta2dot_0, l1_0, l1dot_0, l2_0, l2dot_0])\n",
    "#param_ideal = array([g, m1, m2, k1, k2, L_01, L_02])\n",
    "#time_ideal = arange(0.0, 10, 0.001)\n",
    "\n",
    "#f_solun_ideal1 = odeint(deriv_ideal, f_init_ideal, time_ideal, args=(param_ideal, ))\n",
    "\n",
    "solDSP=solveDSP(1,  1,  300,300,1,   1,   pi/6,        0,           pi/6,        0,           1+(g*(m1+m2)/k1),    0,       1+(g*m2/k2),    0, 20)\n",
    "              #(m1, m2, k1, k2, L_01, L_02, theta1_0, theta1dot_0, theta2_0, theta2dot_0, l1_0, l1dot_0, l2_0, l2dot_0\n",
    "#unpack f_solun for ease of use later\n",
    "\n",
    "#theta1_ideal   = f_solun_ideal1[:,0]\n",
    "#theta1dot_ideal= f_solun_ideal1[:,1]\n",
    "#theta2_ideal   = f_solun_ideal1[:,2]\n",
    "#theta2dot_ideal= f_solun_ideal1[:,3]\n",
    "#l1_ideal       = f_solun_ideal1[:,4]\n",
    "#l1dot_ideal    = f_solun_ideal1[:,5]\n",
    "#l2_ideal       = f_solun_ideal1[:,6]\n",
    "#l2dot_ideal    = f_solun_ideal1[:,7]\n",
    "\n",
    "theta1DSP      = solDSP[1]\n",
    "theta1dotDSP   = solDSP[2]\n",
    "theta2DSP      = solDSP[3]\n",
    "theta2dotDSP   = solDSP[4]\n",
    "l1DSP          = solDSP[5]\n",
    "l1dotDSP       = solDSP[6]\n",
    "l2DSP          = solDSP[7]\n",
    "l2dotDSP       = solDSP[8]\n",
    "timeDSP        = solDSP[0]\n",
    "KDSP           = solDSP[9]\n",
    "UDSP           = solDSP[10]\n",
    "EDSP           = solDSP[11]\n",
    "figure(1)\n",
    "plt.plot(timeDSP,EDSP)\n",
    "figure(2)\n",
    "plt.plot(timeDSP,KDSP)\n",
    "figure(3)\n",
    "plt.plot(timeDSP,UDSP)"
   ]
  },
  {
   "cell_type": "code",
   "execution_count": 36,
   "metadata": {},
   "outputs": [
    {
     "name": "stdout",
     "output_type": "stream",
     "text": [
      "Using matplotlib backend: MacOSX\n",
      "Populating the interactive namespace from numpy and matplotlib\n"
     ]
    }
   ],
   "source": [
    "%pylab\n",
    "\n",
    "fig = figure(figsize=(10,10))\n",
    "ax = axes(xlim=[-3,3], ylim=[-4,4])\n",
    "grid()\n",
    "\n",
    "m1_y_ideal = -l1DSP*cos(theta1DSP)\n",
    "m1_x_ideal = l1DSP*sin(theta1DSP)\n",
    "m2_y_ideal = m1_y_ideal - l2DSP*cos(theta2DSP)\n",
    "m2_x_ideal = m1_x_ideal + l2DSP*sin(theta2DSP)\n",
    "\n",
    "time_per_frame = .01\n",
    "dstep = max(timeDSP)/size(timeDSP)\n",
    "steps_per_frame = time_per_frame/dstep\n",
    "num_frames = int(max(timeDSP)/time_per_frame)\n",
    "\n",
    "\n",
    "m0_position_ideal, = ax.plot([],[], 'go')\n",
    "m1_position_ideal, = ax.plot([],[], 'ro-', ms=15, lw=4)\n",
    "m2_position_ideal, = ax.plot([],[], 'bo-', ms=15, lw=4)\n",
    "\n",
    "def init_ideal():\n",
    "    m0_position_ideal.set_data([], [])\n",
    "    m1_position_ideal.set_data([], [])\n",
    "    m2_position_ideal.set_data([], [])\n",
    "    return m1_position_ideal, m2_position_ideal\n",
    "\n",
    "def animate_ideal(i):\n",
    "    j=i*int(steps_per_frame)\n",
    "    \n",
    "    m0_position_ideal.set_data(0,0)\n",
    "    m1_position_ideal.set_data([m1_x_ideal[j],0], [m1_y_ideal[j],0])\n",
    "    m2_position_ideal.set_data([m1_x_ideal[j], m2_x_ideal[j]], [m1_y_ideal[j], m2_y_ideal[j]])\n",
    "    \n",
    "    return m1_position_ideal, m2_position_ideal\n",
    "\n",
    "anim_ideal= animation.FuncAnimation(fig, animate_ideal, init_func=init_ideal, frames=num_frames, interval=10, blit=False)\n",
    "    \n"
   ]
  },
  {
   "cell_type": "code",
   "execution_count": 26,
   "metadata": {},
   "outputs": [
    {
     "data": {
      "text/plain": [
       "[<matplotlib.lines.Line2D at 0x1d3cd8438>]"
      ]
     },
     "execution_count": 26,
     "metadata": {},
     "output_type": "execute_result"
    },
    {
     "data": {
      "image/png": "[encoded data removed]",
      "text/plain": [
       "<matplotlib.figure.Figure at 0x1ded9c128>"
      ]
     },
     "metadata": {},
     "output_type": "display_data"
    },
    {
     "data": {
      "image/png": "[encoded data removed]",
      "text/plain": [
       "<matplotlib.figure.Figure at 0x1d3c98438>"
      ]
     },
     "metadata": {},
     "output_type": "display_data"
    },
    {
     "data": {
      "image/png": "[encoded data removed]",
      "text/plain": [
       "<matplotlib.figure.Figure at 0x1037a5c50>"
      ]
     },
     "metadata": {},
     "output_type": "display_data"
    },
    {
     "data": {
      "image/png": "[encoded data removed]",
      "text/plain": [
       "<matplotlib.figure.Figure at 0x1d6744160>"
      ]
     },
     "metadata": {},
     "output_type": "display_data"
    }
   ],
   "source": [
    "#figure(1)\n",
    "#plt.plot(theta1_ideal,theta1dotDSP)\n",
    "figure(2)\n",
    "plt.plot(theta1DSP,theta1dotDSP)\n",
    "figure(3)\n",
    "plt.plot(theta2DSP,theta2dotDSP)\n",
    "figure(4)\n",
    "plt.plot(l1DSP,l1dotDSP)\n",
    "figure(5)\n",
    "plt.plot(l2DSP,l2dotDSP)"
   ]
  },
  {
   "cell_type": "code",
   "execution_count": 18,
   "metadata": {},
   "outputs": [
    {
     "data": {
      "text/plain": [
       "[<matplotlib.lines.Line2D at 0x1dc98c4a8>]"
      ]
     },
     "execution_count": 18,
     "metadata": {},
     "output_type": "execute_result"
    },
    {
     "data": {
      "image/png": "[encoded data removed]",
      "text/plain": [
       "<matplotlib.figure.Figure at 0x108b5d860>"
      ]
     },
     "metadata": {},
     "output_type": "display_data"
    }
   ],
   "source": []
  },
  {
   "cell_type": "code",
   "execution_count": 61,
   "metadata": {
    "collapsed": true
   },
   "outputs": [],
   "source": [
    "#We can also add damping\n",
    "\n",
    "def deriv_damped(f, t, param):\n",
    "    #unpack variables\n",
    "    t1    = f[0] #theta1 vars\n",
    "    t1dot = f[1] #theta1 dot vars\n",
    "    t2    = f[2] #theta2 vars\n",
    "    t2dot = f[3] #theta2 dot vars\n",
    "    l1    = f[4] #l1 vars\n",
    "    l1dot = f[5] #l1dot vars\n",
    "    l2    = f[6] #l2 vars\n",
    "    l2dot = f[7] #l2dot vars\n",
    "    \n",
    "    #Unpack constants\n",
    "    g_d =  param[0]\n",
    "    m1_d = param[1]\n",
    "    m2_d = param[2]\n",
    "    k1_d = param[3]\n",
    "    k2_d = param[4]\n",
    "    l_01d= param[5]\n",
    "    l_02d= param[6]\n",
    "    bet_1d = param[7]\n",
    "    gam_1d = param[8]\n",
    "    bet_2d = param[9]\n",
    "    gam_2d = param[10]\n",
    "    \n",
    "    \n",
    "    #Write equations\n",
    "    t1_ddot = ((-1/l1)*(2*l1dot*t1dot + g_d*sin(t1) + (k2_d/m1_d)*(l2-l_02d)*sin(t1-t2))) -bet_1d*t1dot\n",
    "    t2_ddot = ((-1/l2)*(2*l2dot*t2dot - (k1_d/m1_d)*(l1-l_01d)*sin(t1-t2))) -bet_2d*t2dot\n",
    "    l1_ddot = ((t1dot**2)*l1 + g_d*cos(t1) - (k1_d/m1_d)*(l1-l_01d) + (k2_d/m1_d)*(l2-l_02d)*cos(t1-t2)) - gam_1d*l1dot -bet_1d*(l1dot+l2dot)\n",
    "    l2_ddot = ((t2dot**2)*l2 - (k2_d/m2_d)*(l2-l_02d) - (k2_d/m1_d)*(l2-l_02d) + (k1_d/m1_d)*(l1-l_01d)*cos(t1-t2)) - gam_2d*l2dot -bet_2d*(l2dot+l1dot)\n",
    "    \n",
    "    return [t1dot, t1_ddot, t2dot, t2_ddot, l1dot, l1_ddot, l2dot, l2_ddot]"
   ]
  },
  {
   "cell_type": "code",
   "execution_count": 62,
   "metadata": {
    "collapsed": true
   },
   "outputs": [],
   "source": [
    "#Defining Constants\n",
    "g = 9.8 #gravity\n",
    "m1 = 1 #mass 1\n",
    "m2 = 1 #mass 2\n",
    "k1 = 300 #spring constant 1\n",
    "k2 = 300 #spring constant 2\n",
    "L_01 = 1 #spring 1 relaxed length\n",
    "L_02 = 1 #spring 2 relaxed length\n",
    "beta1= 0.01 #drag force on first mass\n",
    "gamma1= 1 #damping on spring 1\n",
    "beta2=  0.01 #drag force on second mass\n",
    "gamma2= 1 #damping on spring 2\n",
    "\n",
    "#Initial Conditions\n",
    "theta1_0 = pi/2\n",
    "theta1dot_0 = 0\n",
    "theta2_0 = 0\n",
    "theta2dot_0 = 0\n",
    "l1_0 = L_01\n",
    "l1dot_0 = 0\n",
    "l2_0 = L_02\n",
    "l2dot_0 = 0\n",
    "\n",
    "\n",
    "f_init_damped = [theta1_0, theta1dot_0, theta2_0, theta2dot_0, l1_0, l1dot_0, l2_0, l2dot_0]\n",
    "param_damped = [g, m1, m2, k1, k2, L_01, L_02, beta1, gamma1, beta2, gamma2]\n",
    "time = arange(0, 20, 0.001)\n",
    "\n",
    "f_solun_damped = odeint(deriv_damped, f_init_damped, time, args=(param_damped, ))\n",
    "\n",
    "#unpack f_solun for ease of use later\n",
    "\n",
    "theta1_damped   = f_solun_damped[:,0]\n",
    "theta1dot_damped= f_solun_damped[:,1]\n",
    "theta2_damped   = f_solun_damped[:,2]\n",
    "theta2dot_damped= f_solun_damped[:,3]\n",
    "l1_damped       = f_solun_damped[:,4]\n",
    "l1dot_damped    = f_solun_damped[:,5]\n",
    "l2_damped       = f_solun_damped[:,6]\n",
    "l2dot_damped    = f_solun_damped[:,7]"
   ]
  },
  {
   "cell_type": "code",
   "execution_count": 64,
   "metadata": {},
   "outputs": [
    {
     "name": "stdout",
     "output_type": "stream",
     "text": [
      "Using matplotlib backend: MacOSX\n",
      "Populating the interactive namespace from numpy and matplotlib\n"
     ]
    }
   ],
   "source": [
    "%pylab\n",
    "\n",
    "fig = figure(figsize=(10,10))\n",
    "ax = axes(xlim=[-3,3], ylim=[-4,4])\n",
    "grid()\n",
    "\n",
    "m1_y_damped = -l1_damped*cos(theta1_damped)\n",
    "m1_x_damped = l1_damped*sin(theta1_damped)\n",
    "m2_y_damped = m1_y_damped - l2_damped*cos(theta2_damped)\n",
    "m2_x_damped = m1_x_damped + l2_damped*sin(theta2_damped)\n",
    "\n",
    "time_per_frame = .01\n",
    "dstep = max(time)/size(time)\n",
    "steps_per_frame = time_per_frame/dstep\n",
    "num_frames = int(max(time)/time_per_frame)\n",
    "\n",
    "\n",
    "m0_position_damped, = ax.plot([],[], 'go')\n",
    "m1_position_damped, = ax.plot([],[], 'ro-', ms=15, lw=4)\n",
    "m2_position_damped, = ax.plot([],[], 'bo-', ms=15, lw=4)\n",
    "\n",
    "def init_damped():\n",
    "    m0_position_damped.set_data([], [])\n",
    "    m1_position_damped.set_data([], [])\n",
    "    m2_position_damped.set_data([], [])\n",
    "    return m1_position_damped, m2_position_damped\n",
    "\n",
    "def animate_damped(i):\n",
    "    j=i*int(steps_per_frame)\n",
    "    \n",
    "    m0_position_damped.set_data(0,0)\n",
    "    m1_position_damped.set_data([m1_x_damped[j],0], [m1_y_damped[j],0])\n",
    "    m2_position_damped.set_data([m1_x_damped[j], m2_x_damped[j]], [m1_y_damped[j], m2_y_damped[j]])\n",
    "    \n",
    "    return m1_position_damped, m2_position_damped\n",
    "\n",
    "anim_damped= animation.FuncAnimation(fig, animate_damped, init_func=init_damped, frames=num_frames, interval=10, blit=False)\n",
    "    \n"
   ]
  },
  {
   "cell_type": "code",
   "execution_count": null,
   "metadata": {
    "collapsed": true
   },
   "outputs": [],
   "source": [
    "figure(1)\n",
    "plt.plot(theta1_damped,theta1dot_damped)\n",
    "plt.plot(theta2_damped,theta2dot_damped)\n",
    "\n",
    "figure(2)\n",
    "plt.plot(l1_damped,l1dot_damped)\n",
    "figure(3)\n",
    "plt.plot(l2_damped,l2dot_damped)\n"
   ]
  },
  {
   "cell_type": "code",
   "execution_count": null,
   "metadata": {
    "collapsed": true
   },
   "outputs": [],
   "source": []
  }
 ],
 "metadata": {
  "kernelspec": {
   "display_name": "Python 3",
   "language": "python",
   "name": "python3"
  },
  "language_info": {
   "codemirror_mode": {
    "name": "ipython",
    "version": 3
   },
   "file_extension": ".py",
   "mimetype": "text/x-python",
   "name": "python",
   "nbconvert_exporter": "python",
   "pygments_lexer": "ipython3",
   "version": "3.6.1"
  }
 },
 "nbformat": 4,
 "nbformat_minor": 2
}
